{
  "nbformat": 4,
  "nbformat_minor": 0,
  "metadata": {
    "colab": {
      "provenance": [],
      "authorship_tag": "ABX9TyO620SQcJA33pM1yBYvf8m+",
      "include_colab_link": true
    },
    "kernelspec": {
      "name": "python3",
      "display_name": "Python 3"
    },
    "language_info": {
      "name": "python"
    }
  },
  "cells": [
    {
      "cell_type": "markdown",
      "metadata": {
        "id": "view-in-github",
        "colab_type": "text"
      },
      "source": [
        "<a href=\"https://colab.research.google.com/github/jfaraudo/Numerical-Newton-examples/blob/master/Feynman_examples/spring.ipynb\" target=\"_parent\"><img src=\"https://colab.research.google.com/assets/colab-badge.svg\" alt=\"Open In Colab\"/></a>"
      ]
    },
    {
      "cell_type": "markdown",
      "source": [
        "# Example section 9.6 Feynman Lectures on Physics\n",
        "Motion of a mass coupled with a spring."
      ],
      "metadata": {
        "id": "lfZith9m1Ak8"
      }
    },
    {
      "cell_type": "code",
      "source": [
        "import numpy as np\n",
        "import matplotlib.pyplot as plt"
      ],
      "metadata": {
        "id": "sMMcxYdO1cPT"
      },
      "execution_count": null,
      "outputs": []
    },
    {
      "cell_type": "markdown",
      "source": [
        "Initial conditions: position at 1.0 from equilibrium and zero initial velocity"
      ],
      "metadata": {
        "id": "I-9VkA5K1y18"
      }
    },
    {
      "cell_type": "code",
      "source": [
        "x0=1.0\n",
        "v0=0.0"
      ],
      "metadata": {
        "id": "Wogdp_WE1yLG"
      },
      "execution_count": null,
      "outputs": []
    },
    {
      "cell_type": "markdown",
      "source": [
        "We take, as in the book, a time step of 0.1 and the calculation was done for 16 steps."
      ],
      "metadata": {
        "id": "eIPmDXj-2EyQ"
      }
    },
    {
      "cell_type": "code",
      "source": [
        "dt = 0.1\n",
        "ntot=16\n",
        "\n",
        "print('Simulation time will be',dt*ntot,' sec')"
      ],
      "metadata": {
        "id": "AYQPqAFk2EFC"
      },
      "execution_count": null,
      "outputs": []
    },
    {
      "cell_type": "markdown",
      "source": [
        "Create empty arrays for all the results and add the initial conditions at 0"
      ],
      "metadata": {
        "id": "GksUdjIz28qm"
      }
    },
    {
      "cell_type": "code",
      "source": [
        "x = np.zeros(ntot+1)\n",
        "v = np.zeros(ntot+1)\n",
        "t = np.zeros(ntot+1)\n",
        "\n",
        "#Initial conditions\n",
        "t[0] = 0.0\n",
        "x[0] = x0\n",
        "v[0] = v0\n",
        "#Acceleration at t=0\n",
        "a = -x[0]\n",
        "\n",
        "print(\"At t=0, x=\",x[0],\", v=\",v[0],\", a=\",a)"
      ],
      "metadata": {
        "id": "v_rMNiuI26f5"
      },
      "execution_count": null,
      "outputs": []
    },
    {
      "cell_type": "markdown",
      "source": [
        "The first step is special:"
      ],
      "metadata": {
        "id": "ymQ20XKc3BIA"
      }
    },
    {
      "cell_type": "code",
      "source": [
        "#  Calculate new velocity after time dt/2\n",
        "v_hk = v[0]+(dt/2.0)*a\n",
        "print(\"v (half step)=\",v_hk)\n",
        "# New position and acceleration at step 1 time t+dt (Feynman call it special equation)\n",
        "x[1] = x[0]+dt*v_hk\n",
        "t[1] = t[0]+dt\n",
        "a = -x[1]\n",
        "i=1\n",
        "print(\"step\",i,\", x=\",x[i],\"a=\",a)"
      ],
      "metadata": {
        "id": "QJp7ysUm2rp-"
      },
      "execution_count": null,
      "outputs": []
    },
    {
      "cell_type": "markdown",
      "source": [
        "Now we perform an iteration over all subsequent times"
      ],
      "metadata": {
        "id": "yrmkJtyA4YC_"
      }
    },
    {
      "cell_type": "code",
      "source": [
        "while i<ntot:\n",
        "    # Calculate acceleration at present position x(t)\n",
        "    a = -x[i]\n",
        "\t  #Velocity change from t-dt/2 to t+dt/2\n",
        "    v_hk = v_hk+a*dt\n",
        "    # New position at t+dt\n",
        "    x[i+1] = x[i]+dt*v_hk\n",
        "    #Update time\n",
        "    t[i+1] = t[i]+dt\n",
        "    #update counter\n",
        "    i=i+1\n",
        "\t  #print calculated data\n",
        "    print('Step',i,' t= ',round(t[i],3),' x=',round(x[i],3))\n"
      ],
      "metadata": {
        "id": "NqlabJhH4b6G"
      },
      "execution_count": null,
      "outputs": []
    },
    {
      "cell_type": "markdown",
      "source": [
        "Plot the results and compare with analytical solution"
      ],
      "metadata": {
        "id": "6JtpuPr27nmp"
      }
    },
    {
      "cell_type": "code",
      "source": [
        "#Analytical results\n",
        "x2 = np.cos(t)\n",
        "\n",
        "#Plot\n",
        "plt.plot(t,x, 'ro',t,x2, '-')\n",
        "plt.ylabel('position x (m)')\n",
        "plt.xlabel('time (s)')\n",
        "plt.legend(['Numerical', 'Analytical'])\n",
        "plt.show()"
      ],
      "metadata": {
        "id": "YuvgU9JK7jfu"
      },
      "execution_count": null,
      "outputs": []
    },
    {
      "cell_type": "code",
      "source": [],
      "metadata": {
        "id": "bnistUGq7maG"
      },
      "execution_count": null,
      "outputs": []
    }
  ]
}