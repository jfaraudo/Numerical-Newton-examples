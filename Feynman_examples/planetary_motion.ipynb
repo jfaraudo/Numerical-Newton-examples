{
  "nbformat": 4,
  "nbformat_minor": 0,
  "metadata": {
    "colab": {
      "provenance": [],
      "authorship_tag": "ABX9TyM5ifHiih2XO4I3qsdHzAHE",
      "include_colab_link": true
    },
    "kernelspec": {
      "name": "python3",
      "display_name": "Python 3"
    },
    "language_info": {
      "name": "python"
    }
  },
  "cells": [
    {
      "cell_type": "markdown",
      "metadata": {
        "id": "view-in-github",
        "colab_type": "text"
      },
      "source": [
        "<a href=\"https://colab.research.google.com/github/jfaraudo/Numerical-Newton-examples/blob/master/Feynman_examples/planetary_motion.ipynb\" target=\"_parent\"><img src=\"https://colab.research.google.com/assets/colab-badge.svg\" alt=\"Open In Colab\"/></a>"
      ]
    },
    {
      "cell_type": "markdown",
      "source": [
        "# Example section 9.7 Feynman Lectures on Physics\n",
        "Planetary motion (arb. units with GM=1)."
      ],
      "metadata": {
        "id": "lfZith9m1Ak8"
      }
    },
    {
      "cell_type": "code",
      "source": [
        "import numpy as np\n",
        "import matplotlib.pyplot as plt"
      ],
      "metadata": {
        "id": "sMMcxYdO1cPT"
      },
      "execution_count": null,
      "outputs": []
    },
    {
      "cell_type": "markdown",
      "source": [
        "Initial conditions:"
      ],
      "metadata": {
        "id": "I-9VkA5K1y18"
      }
    },
    {
      "cell_type": "code",
      "source": [
        "x0=0.5\n",
        "y0=0.0\n",
        "vx0=0.0\n",
        "vy0=1.63"
      ],
      "metadata": {
        "id": "Wogdp_WE1yLG"
      },
      "execution_count": null,
      "outputs": []
    },
    {
      "cell_type": "markdown",
      "source": [
        "We take, as in the book, a time step of 0.1 and the calculation was done for 21 steps."
      ],
      "metadata": {
        "id": "eIPmDXj-2EyQ"
      }
    },
    {
      "cell_type": "code",
      "source": [
        "dt = 0.1\n",
        "ntot=21\n",
        "\n",
        "print('Simulation time will be',dt*ntot)"
      ],
      "metadata": {
        "id": "AYQPqAFk2EFC"
      },
      "execution_count": null,
      "outputs": []
    },
    {
      "cell_type": "markdown",
      "source": [
        "Create empty arrays for all the results and add the initial conditions at t=0"
      ],
      "metadata": {
        "id": "GksUdjIz28qm"
      }
    },
    {
      "cell_type": "code",
      "source": [
        "# create empty array starting at zero with time, position, velocity\n",
        "x = np.zeros(ntot+1)\n",
        "y = np.zeros(ntot+1)\n",
        "vx = np.zeros(ntot+1)\n",
        "vy = np.zeros(ntot+1)\n",
        "t = np.zeros(ntot+1)\n",
        "\n",
        "#Initial conditions\n",
        "t[0] = 0.0\n",
        "x[0] = x0\n",
        "y[0] = y0\n",
        "vx[0] = vx0\n",
        "vy[0] = vy0\n",
        "\n",
        "#Distance of planet from star and calculation of acceleration\n",
        "r_sun=np.sqrt(x[0]*x[0]+y[0]*y[0])\n",
        "ax = -x[0]/(r_sun**3.0)\n",
        "ay = -y[0]/(r_sun**3.0)\n",
        "\n",
        "print(\"At t=0, r=\",r_sun)"
      ],
      "metadata": {
        "id": "v_rMNiuI26f5"
      },
      "execution_count": null,
      "outputs": []
    },
    {
      "cell_type": "markdown",
      "source": [
        "The first step is special as explained in the book:"
      ],
      "metadata": {
        "id": "ymQ20XKc3BIA"
      }
    },
    {
      "cell_type": "code",
      "source": [
        "#  Calculate new velocity after time dt/2\n",
        "vx_hk = vx[0]+(dt/2.0)*ax\n",
        "vy_hk = vy[0]+(dt/2.0)*ay\n",
        "print(\"Half Step: vx=\",vx_hk,\" vy=\",vy_hk)"
      ],
      "metadata": {
        "id": "QJp7ysUm2rp-"
      },
      "execution_count": null,
      "outputs": []
    },
    {
      "cell_type": "code",
      "source": [
        "# New position at step 1 time t+dt\n",
        "i=1\n",
        "x[i] = x[i-1]+dt*vx_hk\n",
        "y[i] = y[i-1]+dt*vy_hk\n",
        "t[i] = t[i-1]+dt\n",
        "r_sun=np.sqrt(x[i]*x[i]+y[i]*y[i])\n",
        "ax = -x[i]/(r_sun**3.0)\n",
        "ay = -y[i]/(r_sun**3.0)\n",
        "print(\"step\",i,\"t=\",t[i],\", x=\",x[i],\"y=\",y[i],\"r=\",r_sun)"
      ],
      "metadata": {
        "id": "jdoVHvd6AztD"
      },
      "execution_count": null,
      "outputs": []
    },
    {
      "cell_type": "markdown",
      "source": [
        "Now we perform an iteration over all subsequent times"
      ],
      "metadata": {
        "id": "yrmkJtyA4YC_"
      }
    },
    {
      "cell_type": "code",
      "source": [
        "while i<ntot:\n",
        "    # Calculate acceleration at present position x(t)\n",
        "    r_sun=np.sqrt(x[i]*x[i]+y[i]*y[i])\n",
        "    ax = -x[i]/(r_sun**3.0)\n",
        "    ay = -y[i]/(r_sun**3.0)\n",
        "\t  #Velocity change from t-dt/2 to t+dt/2\n",
        "    vx_hk = vx_hk+ax*dt\n",
        "    vy_hk = vy_hk+ay*dt\n",
        "    # New position at t+dt\n",
        "    x[i+1] = x[i]+dt*vx_hk\n",
        "    y[i+1] = y[i]+dt*vy_hk\n",
        "    #Update time\n",
        "    t[i+1] = t[i]+dt\n",
        "    #update counter\n",
        "    i=i+1\n",
        "\t  #print current data\n",
        "    print('t= ',round(t[i],3),' x=',round(x[i],3),' y=',round(y[i],3))"
      ],
      "metadata": {
        "id": "NqlabJhH4b6G"
      },
      "execution_count": null,
      "outputs": []
    },
    {
      "cell_type": "markdown",
      "source": [
        "Plot the results"
      ],
      "metadata": {
        "id": "6JtpuPr27nmp"
      }
    },
    {
      "cell_type": "code",
      "source": [
        "plt.plot(x,y, 'ro')\n",
        "\n",
        "plt.xlabel('x')\n",
        "plt.ylabel('y')\n",
        "\n",
        "plt.show()"
      ],
      "metadata": {
        "id": "YuvgU9JK7jfu"
      },
      "execution_count": null,
      "outputs": []
    },
    {
      "cell_type": "code",
      "source": [],
      "metadata": {
        "id": "bnistUGq7maG"
      },
      "execution_count": null,
      "outputs": []
    }
  ]
}